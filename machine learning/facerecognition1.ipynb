{
 "cells": [
  {
   "cell_type": "code",
   "execution_count": 3,
   "metadata": {},
   "outputs": [
    {
     "name": "stdout",
     "output_type": "stream",
     "text": [
      "[Errno 2] No such file or directory: 'faces_data.tsv'\n",
      "1\n",
      "2\n",
      "3\n",
      "4\n",
      "5\n",
      "6\n",
      "7\n",
      "8\n",
      "9\n",
      "10\n",
      "11\n",
      "12\n",
      "13\n",
      "14\n",
      "15\n",
      "16\n",
      "17\n",
      "18\n",
      "19\n",
      "20\n"
     ]
    }
   ],
   "source": [
    "#face register\n",
    "import cv2\n",
    "import pandas as pd\n",
    "import face_recognition as fr\n",
    "\n",
    "file_name = 'faces_data.tsv'\n",
    "\n",
    "vid = cv2.VideoCapture(0)\n",
    "fd=cv2.CascadeClassifier(\n",
    "    cv2.data.haarcascades+'haarcascade_frontalface_default.xml'\n",
    ")\n",
    "\n",
    "try:\n",
    "    face_db = pd.read_csv(file_name,index_col=0, sep='\\t')\n",
    "    data ={\n",
    "        'name':face_db['name'].values.tolist(),\n",
    "        'encoding':face_db['encoding'].values.tolist(),\n",
    "    }\n",
    "except Exception as e:\n",
    "    print(e)\n",
    "    data={'name':[], 'encoding':[]}\n",
    "\n",
    "\n",
    "names=data['name']\n",
    "enc=data['encoding']\n",
    "\n",
    "framelimit = 20\n",
    "frameCount =0\n",
    "name = input(\"enter your name:\")\n",
    "while True:\n",
    "    flag, img = vid.read()\n",
    "    if flag:\n",
    "        faces= fd.detectMultiScale(cv2.cvtColor(img, cv2.COLOR_BGR2GRAY),scaleFactor = 1.1, minNeighbors = 5,\n",
    "                                     minSize =(50,50)\n",
    "                                    )\n",
    "        if len(faces)==1:\n",
    "            x,y,w,h= faces[0]\n",
    "            img_faces = img[y:y+h, x:x+w, :].copy()\n",
    "            img_faces= cv2.resize(img_faces,(400,400),interpolation=cv2.INTER_CUBIC)\n",
    "            face_encoding= fr.face_encodings(img_faces)\n",
    "\n",
    "            if len(face_encoding)==1:\n",
    "                enc.append(face_encoding[0].tolist())\n",
    "                names.append(name)\n",
    "                frameCount+=1\n",
    "                print(frameCount)\n",
    "                cv2.putText(img,str(frameCount),\n",
    "                                    (50,50),cv2.FONT_HERSHEY_COMPLEX,1.5,\n",
    "                                    (0,0,255),8)\n",
    "                if frameCount == framelimit:\n",
    "                    data={'name':names,'encoding':enc}\n",
    "                    pd.DataFrame(data).to_csv(file_name,sep='\\t')\n",
    "                    break\n",
    "        cv2.imshow(\"preview\",img)\n",
    "        key = cv2.waitKey(1)\n",
    "        if key == ord('x'):\n",
    "            break\n",
    "cv2.destroyAllWindows()\n",
    "vid.release()"
   ]
  },
  {
   "cell_type": "code",
   "execution_count": 27,
   "metadata": {},
   "outputs": [],
   "source": [
    "name=[]\n",
    "enc=[]"
   ]
  },
  {
   "cell_type": "code",
   "execution_count": 28,
   "metadata": {},
   "outputs": [
    {
     "data": {
      "text/plain": [
       "['harshita',\n",
       " 'harshita',\n",
       " 'harshita',\n",
       " 'harshita',\n",
       " 'harshita',\n",
       " 'harshita',\n",
       " [...],\n",
       " [...],\n",
       " [...],\n",
       " [...],\n",
       " [...],\n",
       " [...],\n",
       " [...],\n",
       " [...],\n",
       " [...],\n",
       " [...],\n",
       " [...]]"
      ]
     },
     "execution_count": 28,
     "metadata": {},
     "output_type": "execute_result"
    }
   ],
   "source": [
    "names.append(names)\n",
    "names"
   ]
  },
  {
   "cell_type": "code",
   "execution_count": 29,
   "metadata": {},
   "outputs": [],
   "source": [
    "enc.append(face_encoding[0])"
   ]
  },
  {
   "cell_type": "code",
   "execution_count": 30,
   "metadata": {},
   "outputs": [
    {
     "data": {
      "text/plain": [
       "[array([-0.05034532,  0.0141086 ,  0.03651623, -0.0289438 , -0.07353265,\n",
       "        -0.0026426 , -0.03350536, -0.0975835 ,  0.11303365, -0.15877616,\n",
       "         0.13125725, -0.04919103, -0.21409495,  0.02201191,  0.02065025,\n",
       "         0.16670218, -0.12116876, -0.10978193, -0.13666689, -0.04151195,\n",
       "         0.02868465,  0.01131973, -0.00232755, -0.02655818, -0.10339543,\n",
       "        -0.36325118, -0.10210748, -0.07318855, -0.01422703, -0.01972885,\n",
       "        -0.0182865 ,  0.05543429, -0.11198251,  0.0157654 , -0.00058953,\n",
       "         0.11801541, -0.06941733, -0.08614767,  0.22451183,  0.02264621,\n",
       "        -0.24471468, -0.02541922,  0.02851009,  0.21972759,  0.19388728,\n",
       "         0.01998429,  0.04939809, -0.06779164,  0.10401826, -0.21192004,\n",
       "         0.0655136 ,  0.11232921,  0.06296046,  0.08618153,  0.04152653,\n",
       "        -0.12336973,  0.0850502 ,  0.08207758, -0.16189612,  0.0037549 ,\n",
       "         0.1222962 , -0.14528687, -0.03884598, -0.0283669 ,  0.22446011,\n",
       "         0.0957716 , -0.11069588, -0.09795506,  0.15381864, -0.15065877,\n",
       "        -0.04922998, -0.03465072, -0.160073  , -0.15877441, -0.33403364,\n",
       "        -0.01146021,  0.39692765,  0.0939682 , -0.13742043,  0.02399994,\n",
       "        -0.02323688, -0.02781826,  0.14492527,  0.15349443, -0.04995199,\n",
       "        -0.01427347, -0.07280168,  0.06108448,  0.21093038, -0.05871887,\n",
       "        -0.0258568 ,  0.16539988, -0.02295223,  0.01696127,  0.01697075,\n",
       "         0.07394462, -0.07780442, -0.00694655, -0.08001786,  0.01429417,\n",
       "         0.11296842, -0.1048529 ,  0.01107859,  0.13750212, -0.18702231,\n",
       "         0.18962026, -0.04061931,  0.03477155,  0.07621554, -0.03652153,\n",
       "        -0.11066902, -0.03788831,  0.18648565, -0.15081239,  0.09711588,\n",
       "         0.19531885, -0.01703801,  0.10775265,  0.102034  ,  0.11552219,\n",
       "        -0.04907253,  0.0141744 , -0.34020305, -0.0207823 ,  0.0300748 ,\n",
       "         0.05239082,  0.04124015,  0.08643524])]"
      ]
     },
     "execution_count": 30,
     "metadata": {},
     "output_type": "execute_result"
    }
   ],
   "source": [
    "enc"
   ]
  },
  {
   "cell_type": "code",
   "execution_count": 31,
   "metadata": {},
   "outputs": [],
   "source": [
    "data={'name':names, 'encoding':enc}"
   ]
  },
  {
   "cell_type": "code",
   "execution_count": 33,
   "metadata": {},
   "outputs": [
    {
     "ename": "ValueError",
     "evalue": "All arrays must be of the same length",
     "output_type": "error",
     "traceback": [
      "\u001b[1;31m---------------------------------------------------------------------------\u001b[0m",
      "\u001b[1;31mValueError\u001b[0m                                Traceback (most recent call last)",
      "Cell \u001b[1;32mIn[33], line 1\u001b[0m\n\u001b[1;32m----> 1\u001b[0m pd\u001b[39m.\u001b[39;49mDataFrame(data)\u001b[39m.\u001b[39mto_csv(\u001b[39m'\u001b[39m\u001b[39mfaces_data.tsv\u001b[39m\u001b[39m'\u001b[39m)\n",
      "File \u001b[1;32mc:\\Users\\DELL\\AppData\\Local\\Programs\\Python\\Python310\\lib\\site-packages\\pandas\\core\\frame.py:709\u001b[0m, in \u001b[0;36mDataFrame.__init__\u001b[1;34m(self, data, index, columns, dtype, copy)\u001b[0m\n\u001b[0;32m    703\u001b[0m     mgr \u001b[39m=\u001b[39m \u001b[39mself\u001b[39m\u001b[39m.\u001b[39m_init_mgr(\n\u001b[0;32m    704\u001b[0m         data, axes\u001b[39m=\u001b[39m{\u001b[39m\"\u001b[39m\u001b[39mindex\u001b[39m\u001b[39m\"\u001b[39m: index, \u001b[39m\"\u001b[39m\u001b[39mcolumns\u001b[39m\u001b[39m\"\u001b[39m: columns}, dtype\u001b[39m=\u001b[39mdtype, copy\u001b[39m=\u001b[39mcopy\n\u001b[0;32m    705\u001b[0m     )\n\u001b[0;32m    707\u001b[0m \u001b[39melif\u001b[39;00m \u001b[39misinstance\u001b[39m(data, \u001b[39mdict\u001b[39m):\n\u001b[0;32m    708\u001b[0m     \u001b[39m# GH#38939 de facto copy defaults to False only in non-dict cases\u001b[39;00m\n\u001b[1;32m--> 709\u001b[0m     mgr \u001b[39m=\u001b[39m dict_to_mgr(data, index, columns, dtype\u001b[39m=\u001b[39;49mdtype, copy\u001b[39m=\u001b[39;49mcopy, typ\u001b[39m=\u001b[39;49mmanager)\n\u001b[0;32m    710\u001b[0m \u001b[39melif\u001b[39;00m \u001b[39misinstance\u001b[39m(data, ma\u001b[39m.\u001b[39mMaskedArray):\n\u001b[0;32m    711\u001b[0m     \u001b[39mfrom\u001b[39;00m \u001b[39mnumpy\u001b[39;00m\u001b[39m.\u001b[39;00m\u001b[39mma\u001b[39;00m \u001b[39mimport\u001b[39;00m mrecords\n",
      "File \u001b[1;32mc:\\Users\\DELL\\AppData\\Local\\Programs\\Python\\Python310\\lib\\site-packages\\pandas\\core\\internals\\construction.py:481\u001b[0m, in \u001b[0;36mdict_to_mgr\u001b[1;34m(data, index, columns, dtype, typ, copy)\u001b[0m\n\u001b[0;32m    477\u001b[0m     \u001b[39melse\u001b[39;00m:\n\u001b[0;32m    478\u001b[0m         \u001b[39m# dtype check to exclude e.g. range objects, scalars\u001b[39;00m\n\u001b[0;32m    479\u001b[0m         arrays \u001b[39m=\u001b[39m [x\u001b[39m.\u001b[39mcopy() \u001b[39mif\u001b[39;00m \u001b[39mhasattr\u001b[39m(x, \u001b[39m\"\u001b[39m\u001b[39mdtype\u001b[39m\u001b[39m\"\u001b[39m) \u001b[39melse\u001b[39;00m x \u001b[39mfor\u001b[39;00m x \u001b[39min\u001b[39;00m arrays]\n\u001b[1;32m--> 481\u001b[0m \u001b[39mreturn\u001b[39;00m arrays_to_mgr(arrays, columns, index, dtype\u001b[39m=\u001b[39;49mdtype, typ\u001b[39m=\u001b[39;49mtyp, consolidate\u001b[39m=\u001b[39;49mcopy)\n",
      "File \u001b[1;32mc:\\Users\\DELL\\AppData\\Local\\Programs\\Python\\Python310\\lib\\site-packages\\pandas\\core\\internals\\construction.py:115\u001b[0m, in \u001b[0;36marrays_to_mgr\u001b[1;34m(arrays, columns, index, dtype, verify_integrity, typ, consolidate)\u001b[0m\n\u001b[0;32m    112\u001b[0m \u001b[39mif\u001b[39;00m verify_integrity:\n\u001b[0;32m    113\u001b[0m     \u001b[39m# figure out the index, if necessary\u001b[39;00m\n\u001b[0;32m    114\u001b[0m     \u001b[39mif\u001b[39;00m index \u001b[39mis\u001b[39;00m \u001b[39mNone\u001b[39;00m:\n\u001b[1;32m--> 115\u001b[0m         index \u001b[39m=\u001b[39m _extract_index(arrays)\n\u001b[0;32m    116\u001b[0m     \u001b[39melse\u001b[39;00m:\n\u001b[0;32m    117\u001b[0m         index \u001b[39m=\u001b[39m ensure_index(index)\n",
      "File \u001b[1;32mc:\\Users\\DELL\\AppData\\Local\\Programs\\Python\\Python310\\lib\\site-packages\\pandas\\core\\internals\\construction.py:655\u001b[0m, in \u001b[0;36m_extract_index\u001b[1;34m(data)\u001b[0m\n\u001b[0;32m    653\u001b[0m lengths \u001b[39m=\u001b[39m \u001b[39mlist\u001b[39m(\u001b[39mset\u001b[39m(raw_lengths))\n\u001b[0;32m    654\u001b[0m \u001b[39mif\u001b[39;00m \u001b[39mlen\u001b[39m(lengths) \u001b[39m>\u001b[39m \u001b[39m1\u001b[39m:\n\u001b[1;32m--> 655\u001b[0m     \u001b[39mraise\u001b[39;00m \u001b[39mValueError\u001b[39;00m(\u001b[39m\"\u001b[39m\u001b[39mAll arrays must be of the same length\u001b[39m\u001b[39m\"\u001b[39m)\n\u001b[0;32m    657\u001b[0m \u001b[39mif\u001b[39;00m have_dicts:\n\u001b[0;32m    658\u001b[0m     \u001b[39mraise\u001b[39;00m \u001b[39mValueError\u001b[39;00m(\n\u001b[0;32m    659\u001b[0m         \u001b[39m\"\u001b[39m\u001b[39mMixing dicts with non-Series may lead to ambiguous ordering.\u001b[39m\u001b[39m\"\u001b[39m\n\u001b[0;32m    660\u001b[0m     )\n",
      "\u001b[1;31mValueError\u001b[0m: All arrays must be of the same length"
     ]
    }
   ],
   "source": [
    "pd.DataFrame(data).to_csv('faces_data.tsv')"
   ]
  },
  {
   "cell_type": "code",
   "execution_count": 25,
   "metadata": {},
   "outputs": [],
   "source": [
    "faces_data = pd.read_csv('faces_data.csv',index_col=0)\n",
    "faces_data"
   ]
  },
  {
   "cell_type": "code",
   "execution_count": 34,
   "metadata": {},
   "outputs": [
    {
     "data": {
      "text/plain": [
       "array(['harshita', 'harshita', 'harshita', 'harshita', 'harshita',\n",
       "       'harshita', 'harshita', 'harshita', 'harshita', 'harshita',\n",
       "       'harshita', 'harshita', 'harshita', 'harshita', 'harshita',\n",
       "       'harshita', 'harshita', 'harshita', 'harshita', 'harshita'],\n",
       "      dtype=object)"
      ]
     },
     "execution_count": 34,
     "metadata": {},
     "output_type": "execute_result"
    }
   ],
   "source": [
    "face_db['name'].values"
   ]
  },
  {
   "cell_type": "code",
   "execution_count": 37,
   "metadata": {},
   "outputs": [],
   "source": [
    "data ={\n",
    "        'name':face_db['name'].values.tolist(),\n",
    "        'encoding':face_db['encoding'].values.tolist(),\n",
    "    }"
   ]
  },
  {
   "cell_type": "code",
   "execution_count": 4,
   "metadata": {},
   "outputs": [],
   "source": [
    "\n",
    "#Recognition\n",
    "\n",
    "import cv2\n",
    "import pandas as pd\n",
    "import numpy as np\n",
    "import face_recognition as fr\n",
    "\n",
    "vid = cv2.VideoCapture(0)\n",
    "fd=cv2.CascadeClassifier(\n",
    "    cv2.data.haarcascades+'haarcascade_frontalface_default.xml'\n",
    ")\n",
    "\n",
    "try:\n",
    "    face_db = pd.read_csv('faces_data.tsv',index_col=0, sep='\\t')\n",
    "    data ={\n",
    "        'name':face_db['name'].values.tolist(),\n",
    "        'encoding':face_db['encoding'].values.tolist(),\n",
    "    }\n",
    "except Exception as e:\n",
    "    print(e)\n",
    "    data={'name':[], 'encoding':[]}\n",
    "\n",
    "\n",
    "# names=data['name']\n",
    "# enc=data['encoding']\n",
    "\n",
    "# framelimit = 20\n",
    "# frameCount =0\n",
    "# name = input(\"enter your name:\")\n",
    "while True:\n",
    "    flag, img = vid.read()\n",
    "    if flag:\n",
    "        faces= fd.detectMultiScale(cv2.cvtColor(img, cv2.COLOR_BGR2GRAY),scaleFactor = 1.1, minNeighbors = 5,\n",
    "                                     minSize =(50,50)\n",
    "                                    )\n",
    "        if len(faces)==1:\n",
    "            x,y,w,h= faces[0]\n",
    "            img_faces = img[y:y+h, x:x+w, :].copy()\n",
    "            img_faces= cv2.resize(img_faces,(400,400),interpolation=cv2.INTER_CUBIC)\n",
    "            face_encoding= fr.face_encodings(img_faces)\n",
    "\n",
    "            if len(face_encoding)==1:\n",
    "                # enc.append(face_encoding[0])\n",
    "                # names.append(name)\n",
    "                # frameCount+=1\n",
    "                # if frameCount == framelimit:\n",
    "                #     data={'name':names,'encoding':enc}\n",
    "                #     pd.DataFrame(data).to_csv('faces_data.tsv',sep='\\t')\n",
    "                #     break\n",
    "                #print('Recognition will start now')\n",
    "                for index,enc_val in enumerate(data['encoding']):\n",
    "                    #live me jo face ki values aaegi use compare karenge databas ki values se\n",
    "                    matched = fr.compare_faces(face_encoding,np.array(eval(enc_val)))[0]\n",
    "\n",
    "                    if matched == True:\n",
    "                        #print(data['name'][index])\n",
    "                        cv2.putText(img,data['name'][index],\n",
    "                                    (50,50),cv2.FONT_HERSHEY_COMPLEX,1.5,\n",
    "                                    (0,0,255),8)\n",
    "                        break\n",
    "\n",
    "\n",
    "\n",
    "            cv2.imshow(\"preview\",img)\n",
    "            key = cv2.waitKey(1)\n",
    "            if key == ord('x'):\n",
    "                break\n",
    "cv2.destroyAllWindows()\n",
    "vid.release()"
   ]
  },
  {
   "cell_type": "code",
   "execution_count": null,
   "metadata": {},
   "outputs": [],
   "source": []
  }
 ],
 "metadata": {
  "kernelspec": {
   "display_name": "Python 3",
   "language": "python",
   "name": "python3"
  },
  "language_info": {
   "codemirror_mode": {
    "name": "ipython",
    "version": 3
   },
   "file_extension": ".py",
   "mimetype": "text/x-python",
   "name": "python",
   "nbconvert_exporter": "python",
   "pygments_lexer": "ipython3",
   "version": "3.10.11"
  },
  "orig_nbformat": 4
 },
 "nbformat": 4,
 "nbformat_minor": 2
}
