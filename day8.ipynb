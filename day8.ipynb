{
 "cells": [
  {
   "cell_type": "code",
   "execution_count": 6,
   "metadata": {},
   "outputs": [
    {
     "name": "stdout",
     "output_type": "stream",
     "text": [
      "^C\n"
     ]
    }
   ],
   "source": [
    "!python -m pip install numpy"
   ]
  },
  {
   "cell_type": "code",
   "execution_count": 43,
   "metadata": {},
   "outputs": [
    {
     "data": {
      "text/plain": [
       "array([[5, 7, 8],\n",
       "       [7, 3, 4]])"
      ]
     },
     "execution_count": 43,
     "metadata": {},
     "output_type": "execute_result"
    }
   ],
   "source": [
    "import numpy as np\n",
    "b=np.array([[5,7,8],[7,3,4]])\n",
    "b"
   ]
  },
  {
   "cell_type": "code",
   "execution_count": 58,
   "metadata": {},
   "outputs": [
    {
     "name": "stdout",
     "output_type": "stream",
     "text": [
      "[[ 8 33 11]\n",
      " [13 23 33]]\n"
     ]
    },
    {
     "data": {
      "text/plain": [
       "array([[ 5, 30,  8],\n",
       "       [10, 20, 30],\n",
       "       [ 1,  1,  1]])"
      ]
     },
     "execution_count": 58,
     "metadata": {},
     "output_type": "execute_result"
    }
   ],
   "source": [
    "b[1,0]=10\n",
    "b[1,1]=15\n",
    "b[1,2]=12\n",
    "b[:,1]=30,46\n",
    "b[1,:]=10,20,30\n",
    "b\n",
    "print(b+3)\n",
    "np.append(b,[[1,1,1]],axis=0)                       #axis 0=row; 1=column                      "
   ]
  },
  {
   "cell_type": "code",
   "execution_count": 63,
   "metadata": {},
   "outputs": [
    {
     "data": {
      "text/plain": [
       "array([[ 5, 30,  8,  1],\n",
       "       [10, 20, 30,  1]])"
      ]
     },
     "execution_count": 63,
     "metadata": {},
     "output_type": "execute_result"
    }
   ],
   "source": [
    "np.append(b,[[1],[1]],axis=1) "
   ]
  },
  {
   "cell_type": "code",
   "execution_count": 64,
   "metadata": {},
   "outputs": [
    {
     "data": {
      "text/plain": [
       "array([[ 5,  8],\n",
       "       [10, 30]])"
      ]
     },
     "execution_count": 64,
     "metadata": {},
     "output_type": "execute_result"
    }
   ],
   "source": [
    "np.delete(b,1,axis=1)"
   ]
  },
  {
   "cell_type": "code",
   "execution_count": 23,
   "metadata": {},
   "outputs": [
    {
     "data": {
      "text/plain": [
       "array([[ 3,  8,  4],\n",
       "       [ 9,  3,  5],\n",
       "       [11, 15, 17],\n",
       "       [19, 31,  8]])"
      ]
     },
     "execution_count": 23,
     "metadata": {},
     "output_type": "execute_result"
    }
   ],
   "source": [
    "k=np.array([[3,8,4],[9,3,5],[11,15,17],[19,31,8]])\n",
    "k.shape\n",
    "k"
   ]
  },
  {
   "cell_type": "code",
   "execution_count": 35,
   "metadata": {},
   "outputs": [
    {
     "name": "stdout",
     "output_type": "stream",
     "text": [
      "[[[  4   8]\n",
      "  [  3   1]\n",
      "  [  6   9]]\n",
      "\n",
      " [[ 41  81]\n",
      "  [ 31  11]\n",
      "  [ 61  91]]\n",
      "\n",
      " [[  7  71]\n",
      "  [  5  51]\n",
      "  [ 13 151]]]\n"
     ]
    },
    {
     "data": {
      "text/plain": [
       "(3, 3, 2)"
      ]
     },
     "execution_count": 35,
     "metadata": {},
     "output_type": "execute_result"
    }
   ],
   "source": [
    "m=np.array([[[4,8],[3,1],[6,9]],\n",
    "            [[41,81],[31,11],[61,91]],\n",
    "            [[7,71],[5,51],[13,151]]])\n",
    "print(m)\n",
    "m.shape"
   ]
  },
  {
   "attachments": {},
   "cell_type": "markdown",
   "metadata": {},
   "source": [
    "an array object of arbitary homogenous items \n",
    "fast mathematical operations over arrays\n",
    "linear algebra, fourier transform random number generation\n",
    "\n",
    "for accessing in array 3 methods\n",
    "indexing\n",
    "slicing\n",
    "subscripting\n",
    "\n",
    "\n",
    "#array creation functions\n",
    "np.array()\n",
    "np.arrange\n",
    "np.linspace\n",
    "np.ones\n",
    "np.zeros\n",
    "np.eye\n",
    "np.random.randint()"
   ]
  },
  {
   "cell_type": "code",
   "execution_count": 36,
   "metadata": {},
   "outputs": [
    {
     "name": "stdout",
     "output_type": "stream",
     "text": [
      "[41 81]\n",
      "[41 81]\n",
      "31\n",
      "[11 15 17]\n",
      "[[ 8]\n",
      " [ 3]\n",
      " [15]\n",
      " [31]]\n"
     ]
    }
   ],
   "source": [
    "#indexing\n",
    "print(m[1][0])\n",
    "#subscripting\n",
    "print(m[1,0]) #row,column\n",
    "print(k[3,1])\n",
    "print(k[2,0:3:1])  #second row s 0-2 column 1 k step s\n",
    "print(k[:,1:2])"
   ]
  },
  {
   "attachments": {},
   "cell_type": "markdown",
   "metadata": {},
   "source": [
    "row start ka tk jana h kab tk jana h add hoga vo"
   ]
  },
  {
   "cell_type": "code",
   "execution_count": 40,
   "metadata": {},
   "outputs": [
    {
     "name": "stdout",
     "output_type": "stream",
     "text": [
      "[[[ 3]\n",
      "  [ 6]]\n",
      "\n",
      " [[31]\n",
      "  [61]]]\n",
      "[[[  5  51]\n",
      "  [ 13 151]]]\n"
     ]
    }
   ],
   "source": [
    "print(m[:2,-2:,:1])\n",
    "print(m[-1:,-2:,:])"
   ]
  }
 ],
 "metadata": {
  "kernelspec": {
   "display_name": "Python 3",
   "language": "python",
   "name": "python3"
  },
  "language_info": {
   "codemirror_mode": {
    "name": "ipython",
    "version": 3
   },
   "file_extension": ".py",
   "mimetype": "text/x-python",
   "name": "python",
   "nbconvert_exporter": "python",
   "pygments_lexer": "ipython3",
   "version": "3.10.11"
  },
  "orig_nbformat": 4
 },
 "nbformat": 4,
 "nbformat_minor": 2
}
